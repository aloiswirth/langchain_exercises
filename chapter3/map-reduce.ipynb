{
 "cells": [
  {
   "cell_type": "code",
   "execution_count": 1,
   "id": "73104a06-9e3c-4594-8940-7234d79c274f",
   "metadata": {},
   "outputs": [],
   "source": [
    "# setting the environment variables\n",
    "import sys\n",
    "import os\n",
    "\n",
    "sys.path.insert(0, os.path.abspath('..'))\n",
    "\n",
    "from config import set_environment\n",
    "set_environment()"
   ]
  },
  {
   "cell_type": "code",
   "execution_count": 8,
   "id": "526aee24-f911-4239-ac86-1ec75170214b",
   "metadata": {},
   "outputs": [],
   "source": [
    "from langchain.chains.summarize import load_summarize_chain\n",
    "from langchain import OpenAI\n",
    "from langchain.document_loaders import PyPDFLoader\n",
    "pdf_file_path = \"https://arxiv.org/pdf/2401.15884.pdf\"\n",
    "pdf_loader = PyPDFLoader(pdf_file_path)\n",
    "docs = pdf_loader.load_and_split()\n",
    "llm = OpenAI()\n",
    "chain = load_summarize_chain(llm, chain_type=\"map_reduce\")\n",
    "result = chain.invoke(docs)"
   ]
  },
  {
   "cell_type": "code",
   "execution_count": 5,
   "id": "30ed41ea-138a-4826-9f74-329a85a7281b",
   "metadata": {},
   "outputs": [
    {
     "name": "stdout",
     "output_type": "stream",
     "text": [
      "'\n",
      "\n",
      "This article discusses the limitations of large language models (LLMs) and introduces a solution called Corrective Retrieval Augmented Generation (CRAG). CRAG uses a lightweight retrieval evaluator and web searches to improve the accuracy and robustness of LLMs in generating texts. It also includes a decompose-then-recompose algorithm to filter out irrelevant information. Experiments show that CRAG significantly improves the performance of retrieval-augmented generation approaches. It also discusses the issue of hallucinations in LLMs and how CRAG can help mitigate this problem. The article also references other related studies and papers in the field of retrieval-augmented text generation and LLMs. Finally, it presents the evaluation and results of CRAG on four datasets and compares it to other baseline models.'\n",
      "\n"
     ]
    }
   ],
   "source": [
    "print(\"\"\"'\\n\\nThis article discusses the limitations of large language models (LLMs) and introduces a solution called Corrective Retrieval Augmented Generation (CRAG). CRAG uses a lightweight retrieval evaluator and web searches to improve the accuracy and robustness of LLMs in generating texts. It also includes a decompose-then-recompose algorithm to filter out irrelevant information. Experiments show that CRAG significantly improves the performance of retrieval-augmented generation approaches. It also discusses the issue of hallucinations in LLMs and how CRAG can help mitigate this problem. The article also references other related studies and papers in the field of retrieval-augmented text generation and LLMs. Finally, it presents the evaluation and results of CRAG on four datasets and compares it to other baseline models.'\n",
    "\"\"\")"
   ]
  },
  {
   "cell_type": "code",
   "execution_count": 9,
   "id": "cca675ca-81fb-4d72-8f04-14a369759bc0",
   "metadata": {},
   "outputs": [
    {
     "name": "stdout",
     "output_type": "stream",
     "text": [
      " This paper presents a method called CRAG to improve the performance of large language models (LLMs) by addressing their tendency to generate inaccurate information. It uses retrieval techniques and a lightweight evaluator to ensure the relevance and accuracy of retrieved documents. Experiments show that CRAG significantly enhances LLM performance. The article also discusses related work, including the use of retrieval-augmented methods and the challenges of irrelevant context in LLMs.\n"
     ]
    }
   ],
   "source": [
    "print(result['output_text'])"
   ]
  },
  {
   "cell_type": "code",
   "execution_count": null,
   "id": "e58175f9",
   "metadata": {},
   "outputs": [],
   "source": []
  }
 ],
 "metadata": {
  "kernelspec": {
   "display_name": ".venv",
   "language": "python",
   "name": "python3"
  },
  "language_info": {
   "codemirror_mode": {
    "name": "ipython",
    "version": 3
   },
   "file_extension": ".py",
   "mimetype": "text/x-python",
   "name": "python",
   "nbconvert_exporter": "python",
   "pygments_lexer": "ipython3",
   "version": "3.12.6"
  }
 },
 "nbformat": 4,
 "nbformat_minor": 5
}
