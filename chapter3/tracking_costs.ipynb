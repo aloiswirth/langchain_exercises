{
 "cells": [
  {
   "cell_type": "code",
   "execution_count": 4,
   "id": "bdbfe1e5-5e38-47c0-8373-0af17b3dc146",
   "metadata": {},
   "outputs": [],
   "source": [
    "# setting the environment variables\n",
    "import sys\n",
    "import os\n",
    "\n",
    "sys.path.insert(0, os.path.abspath('..'))\n",
    "\n",
    "from config import set_environment\n",
    "set_environment()"
   ]
  },
  {
   "cell_type": "code",
   "execution_count": 5,
   "id": "ed9d81de-3494-4f32-bbf1-5f9a131c707a",
   "metadata": {},
   "outputs": [
    {
     "name": "stderr",
     "output_type": "stream",
     "text": [
      "/tmp/ipykernel_40773/4221667006.py:4: LangChainDeprecationWarning: The class `OpenAI` was deprecated in LangChain 0.0.10 and will be removed in 1.0. An updated version of the class exists in the :class:`~langchain-openai package and should be used instead. To use it run `pip install -U :class:`~langchain-openai` and import as `from :class:`~langchain_openai import OpenAI``.\n",
      "  llm_chain = PromptTemplate.from_template(\"Tell me a joke about {topic}!\") | OpenAI()\n"
     ]
    },
    {
     "name": "stdout",
     "output_type": "stream",
     "text": [
      "\n",
      "\n",
      "Why did the light bulb go to therapy?\n",
      "\n",
      "Because it was feeling a little dim.\n",
      "Total Tokens: 26\n",
      "Prompt Tokens: 8\n",
      "Completion Tokens: 18\n",
      "Total Cost (USD): $4.8e-05\n"
     ]
    }
   ],
   "source": [
    "from langchain import OpenAI, PromptTemplate\n",
    "from langchain.callbacks import get_openai_callback\n",
    "\n",
    "llm_chain = PromptTemplate.from_template(\"Tell me a joke about {topic}!\") | OpenAI()\n",
    "with get_openai_callback() as cb:\n",
    "    response = llm_chain.invoke(dict(topic=\"light bulbs\"))\n",
    "    print(response)\n",
    "    print(f\"Total Tokens: {cb.total_tokens}\")\n",
    "    print(f\"Prompt Tokens: {cb.prompt_tokens}\")\n",
    "    print(f\"Completion Tokens: {cb.completion_tokens}\")\n",
    "    print(f\"Total Cost (USD): ${cb.total_cost}\")\n"
   ]
  },
  {
   "cell_type": "code",
   "execution_count": 6,
   "id": "85c5cf80",
   "metadata": {},
   "outputs": [],
   "source": [
    "from langchain_community.document_loaders import PyPDFLoader\n",
    "from langchain.chains.summarize import load_summarize_chain"
   ]
  },
  {
   "cell_type": "markdown",
   "id": "ac1ea8dd",
   "metadata": {},
   "source": [
    "This is interesting: The get_openai_callback is a wrapper around any kind of openai call and returns the costs and tokens as well. \n",
    "\n",
    "Very very nice."
   ]
  },
  {
   "cell_type": "code",
   "execution_count": 10,
   "id": "44d08b80-2041-4216-9942-7d949f30ad6f",
   "metadata": {},
   "outputs": [
    {
     "name": "stdout",
     "output_type": "stream",
     "text": [
      "\n",
      "\n",
      "This paper introduces the Corrective Retrieval Augmented Generation (CRAG) method for improving the accuracy and relevance of retrieved documents in language generation models. It includes a retrieval evaluator and corrective strategies to refine retrieved information. CRAG has shown significant improvements in performance on various datasets. The paper also addresses potential issues with retrieval-based knowledge and compares CRAG to other approaches. Other papers discuss advancements in natural language processing, including reducing hallucinations in language models and using human feedback to improve performance.\n",
      "Total Tokens: 21026\n",
      "Prompt Tokens: 18812\n",
      "Completion Tokens: 2214\n",
      "Total Cost (USD): $0.032646\n"
     ]
    }
   ],
   "source": [
    "with get_openai_callback() as cb:\n",
    "    pdf_file_path = \"https://arxiv.org/pdf/2401.15884.pdf\"\n",
    "    pdf_loader = PyPDFLoader(pdf_file_path)\n",
    "    docs = pdf_loader.load_and_split()\n",
    "    llm = OpenAI()\n",
    "    chain = load_summarize_chain(llm, chain_type=\"map_reduce\")\n",
    "    result= chain.run(docs)\n",
    "    print(result)\n",
    "    print(f\"Total Tokens: {cb.total_tokens}\")\n",
    "    print(f\"Prompt Tokens: {cb.prompt_tokens}\")\n",
    "    print(f\"Completion Tokens: {cb.completion_tokens}\")\n",
    "    print(f\"Total Cost (USD): ${cb.total_cost}\")\n",
    "\n"
   ]
  }
 ],
 "metadata": {
  "kernelspec": {
   "display_name": ".venv",
   "language": "python",
   "name": "python3"
  },
  "language_info": {
   "codemirror_mode": {
    "name": "ipython",
    "version": 3
   },
   "file_extension": ".py",
   "mimetype": "text/x-python",
   "name": "python",
   "nbconvert_exporter": "python",
   "pygments_lexer": "ipython3",
   "version": "3.12.6"
  }
 },
 "nbformat": 4,
 "nbformat_minor": 5
}
