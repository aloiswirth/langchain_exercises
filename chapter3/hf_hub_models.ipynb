{
 "cells": [
  {
   "cell_type": "code",
   "execution_count": 1,
   "id": "b3844753-aeb1-457f-b2dc-6f6f1bf64891",
   "metadata": {},
   "outputs": [],
   "source": [
    "from huggingface_hub import HfApi, ModelFilter\n",
    "hf_api = HfApi()\n",
    "# models = api.list_models()\n"
   ]
  },
  {
   "cell_type": "code",
   "execution_count": 2,
   "id": "ecf31380-527b-433e-b0cb-9aa32040d6f7",
   "metadata": {},
   "outputs": [
    {
     "name": "stderr",
     "output_type": "stream",
     "text": [
      "/home/alois/Dokumente/development/github/generative_ai_with_langchain/.venv/lib/python3.12/site-packages/huggingface_hub/utils/endpoint_helpers.py:247: FutureWarning: 'ModelFilter' is deprecated and will be removed in huggingface_hub>=0.24. Please pass the filter parameters as keyword arguments directly to the `list_models` method.\n",
      "  warnings.warn(\n"
     ]
    }
   ],
   "source": [
    "models = hf_api.list_models(\n",
    "    filter=ModelFilter(\n",
    "\t\ttask=\"text-generation\",\n",
    "\t\t# library=\"pytorch\",\n",
    "\t\t# trained_dataset=\"imagenet\"\n",
    "\t)\n",
    ")"
   ]
  },
  {
   "cell_type": "code",
   "execution_count": 3,
   "id": "e0dd16c5-cdcf-4a8b-9908-9fa8acc036d6",
   "metadata": {},
   "outputs": [],
   "source": [
    "model_list = []\n",
    "for model in models:\n",
    "    model_list.append(model)"
   ]
  },
  {
   "cell_type": "code",
   "execution_count": 4,
   "id": "88d90424-18fb-4e36-8a7e-faea222a9843",
   "metadata": {},
   "outputs": [
    {
     "data": {
      "text/plain": [
       "143606"
      ]
     },
     "execution_count": 4,
     "metadata": {},
     "output_type": "execute_result"
    }
   ],
   "source": [
    "len(model_list)"
   ]
  },
  {
   "cell_type": "code",
   "execution_count": 5,
   "id": "ba50e0b2-4a71-4e78-81b5-19bf3d5b6de5",
   "metadata": {},
   "outputs": [],
   "source": [
    "models = hf_api.list_models(\n",
    "    filter=ModelFilter(\n",
    "\t\ttask=\"summarization\",\n",
    "\t\t# library=\"pytorch\",\n",
    "\t\t# trained_dataset=\"imagenet\"\n",
    "\t)\n",
    ")\n",
    "summarization_list = []\n",
    "for model in models:\n",
    "    summarization_list.append(model)"
   ]
  },
  {
   "cell_type": "code",
   "execution_count": 6,
   "id": "209813cd-8077-41ae-9e2c-ebdaec4f726f",
   "metadata": {},
   "outputs": [
    {
     "data": {
      "text/plain": [
       "2070"
      ]
     },
     "execution_count": 6,
     "metadata": {},
     "output_type": "execute_result"
    }
   ],
   "source": [
    "len(summarization_list)"
   ]
  },
  {
   "cell_type": "code",
   "execution_count": 7,
   "id": "d0f98fdd-a956-41cc-874b-a86eb0464046",
   "metadata": {},
   "outputs": [
    {
     "data": {
      "text/plain": [
       "ModelInfo(id='google-t5/t5-base', author='google-t5', sha='a9723ea7f1b39c1eae772870f3b547bf6ef7e6c1', created_at=datetime.datetime(2022, 3, 2, 23, 29, 4, tzinfo=datetime.timezone.utc), last_modified=datetime.datetime(2024, 2, 14, 17, 21, 55, tzinfo=datetime.timezone.utc), private=False, gated=False, disabled=None, downloads=2496767, likes=573, library_name='transformers', tags=['transformers', 'pytorch', 'tf', 'jax', 'rust', 'safetensors', 't5', 'text2text-generation', 'summarization', 'translation', 'en', 'fr', 'ro', 'de', 'dataset:c4', 'arxiv:1805.12471', 'arxiv:1708.00055', 'arxiv:1704.05426', 'arxiv:1606.05250', 'arxiv:1808.09121', 'arxiv:1810.12885', 'arxiv:1905.10044', 'arxiv:1910.09700', 'license:apache-2.0', 'autotrain_compatible', 'text-generation-inference', 'endpoints_compatible', 'region:us'], pipeline_tag='translation', mask_token=None, card_data=None, widget_data=None, model_index=None, config=None, transformers_info=None, siblings=[RepoSibling(rfilename='.gitattributes', size=None, blob_id=None, lfs=None), RepoSibling(rfilename='README.md', size=None, blob_id=None, lfs=None), RepoSibling(rfilename='config.json', size=None, blob_id=None, lfs=None), RepoSibling(rfilename='flax_model.msgpack', size=None, blob_id=None, lfs=None), RepoSibling(rfilename='generation_config.json', size=None, blob_id=None, lfs=None), RepoSibling(rfilename='model.safetensors', size=None, blob_id=None, lfs=None), RepoSibling(rfilename='pytorch_model.bin', size=None, blob_id=None, lfs=None), RepoSibling(rfilename='rust_model.ot', size=None, blob_id=None, lfs=None), RepoSibling(rfilename='spiece.model', size=None, blob_id=None, lfs=None), RepoSibling(rfilename='tf_model.h5', size=None, blob_id=None, lfs=None), RepoSibling(rfilename='tokenizer.json', size=None, blob_id=None, lfs=None)], spaces=None, safetensors=None)"
      ]
     },
     "execution_count": 7,
     "metadata": {},
     "output_type": "execute_result"
    }
   ],
   "source": [
    "summarization_list[0]"
   ]
  },
  {
   "cell_type": "code",
   "execution_count": 8,
   "id": "d112bec2-cf63-4b13-894f-1836741cf4c1",
   "metadata": {},
   "outputs": [
    {
     "data": {
      "text/plain": [
       "{'author': 'google-t5',\n",
       " 'last_modified': datetime.datetime(2024, 2, 14, 17, 21, 55, tzinfo=datetime.timezone.utc),\n",
       " 'downloads': 2496767,\n",
       " 'pipeline_tag': 'translation',\n",
       " 'id': 'google-t5/t5-base'}"
      ]
     },
     "execution_count": 8,
     "metadata": {},
     "output_type": "execute_result"
    }
   ],
   "source": [
    "def extract_json(model_info): \n",
    "    return dict(\n",
    "        author=model_info.author,\n",
    "        last_modified=model_info.last_modified,\n",
    "        downloads=model_info.downloads,\n",
    "        pipeline_tag=model_info.pipeline_tag,\n",
    "        id=model_info.id\n",
    "    )\n",
    "    \n",
    "extract_json(summarization_list[0])"
   ]
  },
  {
   "cell_type": "code",
   "execution_count": 9,
   "id": "6e10b183-31c0-46fd-9527-3421c36e7f5f",
   "metadata": {},
   "outputs": [],
   "source": [
    "import pandas as pd\n",
    "\n",
    "df = pd.DataFrame([extract_json(model) for model in summarization_list])\n",
    "df.last_modified = df.last_modified.dt.date"
   ]
  },
  {
   "cell_type": "code",
   "execution_count": 10,
   "id": "e65bde9a-1a70-4cd8-a1e5-65c4f61983b0",
   "metadata": {},
   "outputs": [
    {
     "data": {
      "text/html": [
       "<div>\n",
       "<style scoped>\n",
       "    .dataframe tbody tr th:only-of-type {\n",
       "        vertical-align: middle;\n",
       "    }\n",
       "\n",
       "    .dataframe tbody tr th {\n",
       "        vertical-align: top;\n",
       "    }\n",
       "\n",
       "    .dataframe thead th {\n",
       "        text-align: right;\n",
       "    }\n",
       "</style>\n",
       "<table border=\"1\" class=\"dataframe\">\n",
       "  <thead>\n",
       "    <tr style=\"text-align: right;\">\n",
       "      <th></th>\n",
       "      <th>downloads</th>\n",
       "      <th>id</th>\n",
       "      <th>last_modified</th>\n",
       "    </tr>\n",
       "  </thead>\n",
       "  <tbody>\n",
       "    <tr>\n",
       "      <th>1</th>\n",
       "      <td>3677423</td>\n",
       "      <td>facebook/bart-large-cnn</td>\n",
       "      <td>2024-02-13</td>\n",
       "    </tr>\n",
       "    <tr>\n",
       "      <th>24</th>\n",
       "      <td>397009</td>\n",
       "      <td>sshleifer/distilbart-cnn-12-6</td>\n",
       "      <td>2021-06-14</td>\n",
       "    </tr>\n",
       "    <tr>\n",
       "      <th>23</th>\n",
       "      <td>206803</td>\n",
       "      <td>philschmid/bart-large-cnn-samsum</td>\n",
       "      <td>2022-12-23</td>\n",
       "    </tr>\n",
       "    <tr>\n",
       "      <th>289</th>\n",
       "      <td>83906</td>\n",
       "      <td>google/pegasus-xsum</td>\n",
       "      <td>2023-01-24</td>\n",
       "    </tr>\n",
       "    <tr>\n",
       "      <th>4</th>\n",
       "      <td>38296</td>\n",
       "      <td>Falconsai/text_summarization</td>\n",
       "      <td>2024-02-17</td>\n",
       "    </tr>\n",
       "    <tr>\n",
       "      <th>1662</th>\n",
       "      <td>37790</td>\n",
       "      <td>suriya7/bart-finetuned-text-summarization</td>\n",
       "      <td>2024-03-24</td>\n",
       "    </tr>\n",
       "    <tr>\n",
       "      <th>3</th>\n",
       "      <td>24469</td>\n",
       "      <td>google/pegasus-cnn_dailymail</td>\n",
       "      <td>2023-01-24</td>\n",
       "    </tr>\n",
       "    <tr>\n",
       "      <th>318</th>\n",
       "      <td>23854</td>\n",
       "      <td>knkarthick/MEETING_SUMMARY</td>\n",
       "      <td>2023-03-27</td>\n",
       "    </tr>\n",
       "    <tr>\n",
       "      <th>378</th>\n",
       "      <td>20901</td>\n",
       "      <td>sshleifer/distilbart-cnn-6-6</td>\n",
       "      <td>2021-06-14</td>\n",
       "    </tr>\n",
       "    <tr>\n",
       "      <th>10</th>\n",
       "      <td>16885</td>\n",
       "      <td>cointegrated/rut5-base-absum</td>\n",
       "      <td>2023-03-17</td>\n",
       "    </tr>\n",
       "  </tbody>\n",
       "</table>\n",
       "</div>"
      ],
      "text/plain": [
       "      downloads                                         id last_modified\n",
       "1       3677423                    facebook/bart-large-cnn    2024-02-13\n",
       "24       397009              sshleifer/distilbart-cnn-12-6    2021-06-14\n",
       "23       206803           philschmid/bart-large-cnn-samsum    2022-12-23\n",
       "289       83906                        google/pegasus-xsum    2023-01-24\n",
       "4         38296               Falconsai/text_summarization    2024-02-17\n",
       "1662      37790  suriya7/bart-finetuned-text-summarization    2024-03-24\n",
       "3         24469               google/pegasus-cnn_dailymail    2023-01-24\n",
       "318       23854                 knkarthick/MEETING_SUMMARY    2023-03-27\n",
       "378       20901               sshleifer/distilbart-cnn-6-6    2021-06-14\n",
       "10        16885               cointegrated/rut5-base-absum    2023-03-17"
      ]
     },
     "execution_count": 10,
     "metadata": {},
     "output_type": "execute_result"
    }
   ],
   "source": [
    "df[df.pipeline_tag == \"summarization\"].sort_values(by=\"downloads\", ascending=False).head(10)[[\"downloads\", \"id\", \"last_modified\"]]"
   ]
  },
  {
   "cell_type": "code",
   "execution_count": null,
   "id": "387b4493-c283-4561-947c-c0de197f3e37",
   "metadata": {},
   "outputs": [],
   "source": []
  }
 ],
 "metadata": {
  "kernelspec": {
   "display_name": ".venv",
   "language": "python",
   "name": "python3"
  },
  "language_info": {
   "codemirror_mode": {
    "name": "ipython",
    "version": 3
   },
   "file_extension": ".py",
   "mimetype": "text/x-python",
   "name": "python",
   "nbconvert_exporter": "python",
   "pygments_lexer": "ipython3",
   "version": "3.12.6"
  }
 },
 "nbformat": 4,
 "nbformat_minor": 5
}
